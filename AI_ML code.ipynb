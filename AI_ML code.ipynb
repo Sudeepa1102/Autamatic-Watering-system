{
 "cells": [
  {
   "cell_type": "code",
   "execution_count": 3,
   "id": "b22a62b8",
   "metadata": {},
   "outputs": [
    {
     "name": "stdout",
     "output_type": "stream",
     "text": [
      "Accuracy - test set: 100.00%\n",
      "Prediction for X_new: [288.]\n"
     ]
    }
   ],
   "source": [
    "import warnings\n",
    "import pandas as pd\n",
    "from sklearn import model_selection\n",
    "import numpy as np\n",
    "from sklearn import linear_model\n",
    "warnings.filterwarnings(\"ignore\")\n",
    "data = pd.read_csv('EXDATA.csv')\n",
    "X = data[['Soil Moisture']] \n",
    "y = data['soil moisture after adding water']  \n",
    "X_train, X_test, y_train, y_test = model_selection.train_test_split(X, y, test_size=0.3, random_state=7)\n",
    "reg = linear_model.LinearRegression()\n",
    "reg.fit(X_train, y_train)\n",
    "result = reg.score(X_test, y_test)\n",
    "print(\"Accuracy - test set: %.2f%%\" % (result * 100.0))\n",
    "X_new = [[12.0]]\n",
    "prediction = reg.predict(X_new)\n",
    "print(\"Prediction for X_new:\", prediction)"
   ]
  }
 ],
 "metadata": {
  "kernelspec": {
   "display_name": "Python 3 (ipykernel)",
   "language": "python",
   "name": "python3"
  },
  "language_info": {
   "codemirror_mode": {
    "name": "ipython",
    "version": 3
   },
   "file_extension": ".py",
   "mimetype": "text/x-python",
   "name": "python",
   "nbconvert_exporter": "python",
   "pygments_lexer": "ipython3",
   "version": "3.11.4"
  }
 },
 "nbformat": 4,
 "nbformat_minor": 5
}
